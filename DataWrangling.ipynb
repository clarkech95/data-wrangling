{
 "cells": [
  {
   "cell_type": "markdown",
   "metadata": {},
   "source": [
    "# Data Wrangling"
   ]
  },
  {
   "cell_type": "markdown",
   "metadata": {},
   "source": [
    "### Student Name: Christian Clarke"
   ]
  },
  {
   "cell_type": "code",
   "execution_count": 56,
   "metadata": {},
   "outputs": [],
   "source": [
    "#import any required libraries\n",
    "import pandas as pd\n",
    "import seaborn as sns\n",
    "import matplotlib.pyplot as plt\n",
    "import matplotlib.ticker as ticker\n",
    "import numpy as np"
   ]
  },
  {
   "cell_type": "markdown",
   "metadata": {},
   "source": [
    "#### Step 1 – Programmatically download the required data for December 2019."
   ]
  },
  {
   "cell_type": "code",
   "execution_count": 57,
   "metadata": {},
   "outputs": [],
   "source": [
    "url = 'https://nyc-tlc.s3.amazonaws.com/trip+data/green_tripdata_2019-12.csv' #provide the link to the data for December 2019\n",
    "\n",
    "#load the data into a dataframe\n",
    "try:\n",
    "    green_data = pd.read_csv(url, low_memory = False)\n",
    "except IOError:\n",
    "    print ('Unable to read the input file.')\n",
    "    exit()"
   ]
  },
  {
   "cell_type": "markdown",
   "metadata": {},
   "source": [
    "#### Step 2 – Report the number of rows and columns in the data."
   ]
  },
  {
   "cell_type": "code",
   "execution_count": 58,
   "metadata": {},
   "outputs": [
    {
     "data": {
      "text/plain": [
       "(450627, 20)"
      ]
     },
     "execution_count": 58,
     "metadata": {},
     "output_type": "execute_result"
    }
   ],
   "source": [
    "#Print the number of rows and columns in data.\n",
    "green_data.shape"
   ]
  },
  {
   "cell_type": "markdown",
   "metadata": {},
   "source": [
    "#### Step 3 – Gather summary/descriptive statistics. State your initial observations (no more than 1 paragraph) and identify any inconsistencies. \n",
    "HINT: you can use the **describe** function"
   ]
  },
  {
   "cell_type": "code",
   "execution_count": 59,
   "metadata": {},
   "outputs": [
    {
     "data": {
      "text/html": [
       "<div>\n",
       "<style scoped>\n",
       "    .dataframe tbody tr th:only-of-type {\n",
       "        vertical-align: middle;\n",
       "    }\n",
       "\n",
       "    .dataframe tbody tr th {\n",
       "        vertical-align: top;\n",
       "    }\n",
       "\n",
       "    .dataframe thead th {\n",
       "        text-align: right;\n",
       "    }\n",
       "</style>\n",
       "<table border=\"1\" class=\"dataframe\">\n",
       "  <thead>\n",
       "    <tr style=\"text-align: right;\">\n",
       "      <th></th>\n",
       "      <th>VendorID</th>\n",
       "      <th>RatecodeID</th>\n",
       "      <th>PULocationID</th>\n",
       "      <th>DOLocationID</th>\n",
       "      <th>passenger_count</th>\n",
       "      <th>trip_distance</th>\n",
       "      <th>fare_amount</th>\n",
       "      <th>extra</th>\n",
       "      <th>mta_tax</th>\n",
       "      <th>tip_amount</th>\n",
       "      <th>tolls_amount</th>\n",
       "      <th>ehail_fee</th>\n",
       "      <th>improvement_surcharge</th>\n",
       "      <th>total_amount</th>\n",
       "      <th>payment_type</th>\n",
       "      <th>trip_type</th>\n",
       "      <th>congestion_surcharge</th>\n",
       "    </tr>\n",
       "  </thead>\n",
       "  <tbody>\n",
       "    <tr>\n",
       "      <th>count</th>\n",
       "      <td>359902.000000</td>\n",
       "      <td>359902.000000</td>\n",
       "      <td>450627.000000</td>\n",
       "      <td>450627.000000</td>\n",
       "      <td>359902.000000</td>\n",
       "      <td>450627.000000</td>\n",
       "      <td>450627.000000</td>\n",
       "      <td>450627.000000</td>\n",
       "      <td>450627.000000</td>\n",
       "      <td>450627.000000</td>\n",
       "      <td>450627.000000</td>\n",
       "      <td>0.0</td>\n",
       "      <td>450625.000000</td>\n",
       "      <td>450627.000000</td>\n",
       "      <td>359902.000000</td>\n",
       "      <td>359900.000000</td>\n",
       "      <td>359900.000000</td>\n",
       "    </tr>\n",
       "    <tr>\n",
       "      <th>mean</th>\n",
       "      <td>1.833449</td>\n",
       "      <td>1.102836</td>\n",
       "      <td>107.480599</td>\n",
       "      <td>128.446118</td>\n",
       "      <td>1.311582</td>\n",
       "      <td>3.445025</td>\n",
       "      <td>15.586714</td>\n",
       "      <td>0.888232</td>\n",
       "      <td>0.439677</td>\n",
       "      <td>0.949459</td>\n",
       "      <td>0.289563</td>\n",
       "      <td>NaN</td>\n",
       "      <td>0.270599</td>\n",
       "      <td>18.736671</td>\n",
       "      <td>1.477002</td>\n",
       "      <td>1.023226</td>\n",
       "      <td>0.426469</td>\n",
       "    </tr>\n",
       "    <tr>\n",
       "      <th>std</th>\n",
       "      <td>0.372575</td>\n",
       "      <td>0.623131</td>\n",
       "      <td>70.625075</td>\n",
       "      <td>76.086904</td>\n",
       "      <td>0.968107</td>\n",
       "      <td>117.057614</td>\n",
       "      <td>12.915723</td>\n",
       "      <td>1.166764</td>\n",
       "      <td>0.166541</td>\n",
       "      <td>2.182414</td>\n",
       "      <td>1.369154</td>\n",
       "      <td>NaN</td>\n",
       "      <td>0.091492</td>\n",
       "      <td>14.405428</td>\n",
       "      <td>0.521520</td>\n",
       "      <td>0.150620</td>\n",
       "      <td>0.995450</td>\n",
       "    </tr>\n",
       "    <tr>\n",
       "      <th>min</th>\n",
       "      <td>1.000000</td>\n",
       "      <td>1.000000</td>\n",
       "      <td>1.000000</td>\n",
       "      <td>1.000000</td>\n",
       "      <td>0.000000</td>\n",
       "      <td>-9436.330000</td>\n",
       "      <td>-200.000000</td>\n",
       "      <td>-4.500000</td>\n",
       "      <td>-0.500000</td>\n",
       "      <td>-90.500000</td>\n",
       "      <td>0.000000</td>\n",
       "      <td>NaN</td>\n",
       "      <td>-0.300000</td>\n",
       "      <td>-200.000000</td>\n",
       "      <td>1.000000</td>\n",
       "      <td>1.000000</td>\n",
       "      <td>-2.750000</td>\n",
       "    </tr>\n",
       "    <tr>\n",
       "      <th>25%</th>\n",
       "      <td>2.000000</td>\n",
       "      <td>1.000000</td>\n",
       "      <td>52.000000</td>\n",
       "      <td>64.000000</td>\n",
       "      <td>1.000000</td>\n",
       "      <td>1.040000</td>\n",
       "      <td>7.000000</td>\n",
       "      <td>0.000000</td>\n",
       "      <td>0.500000</td>\n",
       "      <td>0.000000</td>\n",
       "      <td>0.000000</td>\n",
       "      <td>NaN</td>\n",
       "      <td>0.300000</td>\n",
       "      <td>8.800000</td>\n",
       "      <td>1.000000</td>\n",
       "      <td>1.000000</td>\n",
       "      <td>0.000000</td>\n",
       "    </tr>\n",
       "    <tr>\n",
       "      <th>50%</th>\n",
       "      <td>2.000000</td>\n",
       "      <td>1.000000</td>\n",
       "      <td>82.000000</td>\n",
       "      <td>129.000000</td>\n",
       "      <td>1.000000</td>\n",
       "      <td>1.940000</td>\n",
       "      <td>11.000000</td>\n",
       "      <td>0.500000</td>\n",
       "      <td>0.500000</td>\n",
       "      <td>0.000000</td>\n",
       "      <td>0.000000</td>\n",
       "      <td>NaN</td>\n",
       "      <td>0.300000</td>\n",
       "      <td>14.150000</td>\n",
       "      <td>1.000000</td>\n",
       "      <td>1.000000</td>\n",
       "      <td>0.000000</td>\n",
       "    </tr>\n",
       "    <tr>\n",
       "      <th>75%</th>\n",
       "      <td>2.000000</td>\n",
       "      <td>1.000000</td>\n",
       "      <td>166.000000</td>\n",
       "      <td>192.000000</td>\n",
       "      <td>1.000000</td>\n",
       "      <td>4.000000</td>\n",
       "      <td>20.500000</td>\n",
       "      <td>1.000000</td>\n",
       "      <td>0.500000</td>\n",
       "      <td>1.560000</td>\n",
       "      <td>0.000000</td>\n",
       "      <td>NaN</td>\n",
       "      <td>0.300000</td>\n",
       "      <td>24.420000</td>\n",
       "      <td>2.000000</td>\n",
       "      <td>1.000000</td>\n",
       "      <td>0.000000</td>\n",
       "    </tr>\n",
       "    <tr>\n",
       "      <th>max</th>\n",
       "      <td>2.000000</td>\n",
       "      <td>6.000000</td>\n",
       "      <td>265.000000</td>\n",
       "      <td>265.000000</td>\n",
       "      <td>9.000000</td>\n",
       "      <td>77843.760000</td>\n",
       "      <td>500.000000</td>\n",
       "      <td>8.250000</td>\n",
       "      <td>3.550000</td>\n",
       "      <td>441.000000</td>\n",
       "      <td>48.000000</td>\n",
       "      <td>NaN</td>\n",
       "      <td>0.300000</td>\n",
       "      <td>500.300000</td>\n",
       "      <td>5.000000</td>\n",
       "      <td>2.000000</td>\n",
       "      <td>2.750000</td>\n",
       "    </tr>\n",
       "  </tbody>\n",
       "</table>\n",
       "</div>"
      ],
      "text/plain": [
       "            VendorID     RatecodeID   PULocationID   DOLocationID  \\\n",
       "count  359902.000000  359902.000000  450627.000000  450627.000000   \n",
       "mean        1.833449       1.102836     107.480599     128.446118   \n",
       "std         0.372575       0.623131      70.625075      76.086904   \n",
       "min         1.000000       1.000000       1.000000       1.000000   \n",
       "25%         2.000000       1.000000      52.000000      64.000000   \n",
       "50%         2.000000       1.000000      82.000000     129.000000   \n",
       "75%         2.000000       1.000000     166.000000     192.000000   \n",
       "max         2.000000       6.000000     265.000000     265.000000   \n",
       "\n",
       "       passenger_count  trip_distance    fare_amount          extra  \\\n",
       "count    359902.000000  450627.000000  450627.000000  450627.000000   \n",
       "mean          1.311582       3.445025      15.586714       0.888232   \n",
       "std           0.968107     117.057614      12.915723       1.166764   \n",
       "min           0.000000   -9436.330000    -200.000000      -4.500000   \n",
       "25%           1.000000       1.040000       7.000000       0.000000   \n",
       "50%           1.000000       1.940000      11.000000       0.500000   \n",
       "75%           1.000000       4.000000      20.500000       1.000000   \n",
       "max           9.000000   77843.760000     500.000000       8.250000   \n",
       "\n",
       "             mta_tax     tip_amount   tolls_amount  ehail_fee  \\\n",
       "count  450627.000000  450627.000000  450627.000000        0.0   \n",
       "mean        0.439677       0.949459       0.289563        NaN   \n",
       "std         0.166541       2.182414       1.369154        NaN   \n",
       "min        -0.500000     -90.500000       0.000000        NaN   \n",
       "25%         0.500000       0.000000       0.000000        NaN   \n",
       "50%         0.500000       0.000000       0.000000        NaN   \n",
       "75%         0.500000       1.560000       0.000000        NaN   \n",
       "max         3.550000     441.000000      48.000000        NaN   \n",
       "\n",
       "       improvement_surcharge   total_amount   payment_type      trip_type  \\\n",
       "count          450625.000000  450627.000000  359902.000000  359900.000000   \n",
       "mean                0.270599      18.736671       1.477002       1.023226   \n",
       "std                 0.091492      14.405428       0.521520       0.150620   \n",
       "min                -0.300000    -200.000000       1.000000       1.000000   \n",
       "25%                 0.300000       8.800000       1.000000       1.000000   \n",
       "50%                 0.300000      14.150000       1.000000       1.000000   \n",
       "75%                 0.300000      24.420000       2.000000       1.000000   \n",
       "max                 0.300000     500.300000       5.000000       2.000000   \n",
       "\n",
       "       congestion_surcharge  \n",
       "count         359900.000000  \n",
       "mean               0.426469  \n",
       "std                0.995450  \n",
       "min               -2.750000  \n",
       "25%                0.000000  \n",
       "50%                0.000000  \n",
       "75%                0.000000  \n",
       "max                2.750000  "
      ]
     },
     "execution_count": 59,
     "metadata": {},
     "output_type": "execute_result"
    }
   ],
   "source": [
    "#display the summary statistics using the describe() function from the pandas dataframe\n",
    "#state your observations or any inconsistencies that were detected in step 3\n",
    "green_data.describe()"
   ]
  },
  {
   "cell_type": "markdown",
   "metadata": {},
   "source": [
    "Increased fare amounts lead to increased tip percentages which is interesting. The question is, do customers feel the need to tip more because they feel guilty about the long ride, is there a specific of drivers making these longer rides, do the longer rides allow customers more interaction with the drivers and thus a stronger connection leading to a better tip, or something else entirely. There are also very large trip distances as well as negative trip distances which could represent faulty devices."
   ]
  },
  {
   "cell_type": "markdown",
   "metadata": {},
   "source": [
    "#### Step 4 – Examine the data for missing observations and duplicate records. Suggest what methods are appropriate to handle them."
   ]
  },
  {
   "cell_type": "code",
   "execution_count": 60,
   "metadata": {},
   "outputs": [
    {
     "name": "stdout",
     "output_type": "stream",
     "text": [
      "VendorID                 359902\n",
      "lpep_pickup_datetime     450627\n",
      "lpep_dropoff_datetime    450627\n",
      "store_and_fwd_flag       359902\n",
      "RatecodeID               359902\n",
      "PULocationID             450627\n",
      "DOLocationID             450627\n",
      "passenger_count          359902\n",
      "trip_distance            450627\n",
      "fare_amount              450627\n",
      "extra                    450627\n",
      "mta_tax                  450627\n",
      "tip_amount               450627\n",
      "tolls_amount             450627\n",
      "ehail_fee                     0\n",
      "improvement_surcharge    450625\n",
      "total_amount             450627\n",
      "payment_type             359902\n",
      "trip_type                359900\n",
      "congestion_surcharge     359900\n",
      "dtype: int64\n",
      "tf\n",
      "False    450626\n",
      "True          1\n",
      "Name: tf, dtype: int64\n"
     ]
    }
   ],
   "source": [
    "#Perform the action(s) in step 4 to handle any missing data and duplicate records that were found.\n",
    "print(green_data.count())\n",
    "print(pd.DataFrame(green_data.duplicated(), columns = ['tf']).groupby('tf')['tf'].count())"
   ]
  },
  {
   "cell_type": "markdown",
   "metadata": {},
   "source": [
    "There are over 90,000 rows of missing data in certain columns. Thankfully passenger count, payment type, trip type are the only columns that are of concern, the others don't play a major role in any analysis we would perform. While we could keep them all by filling them with the averages for their respective columns there is little variation in them and thus their presence in the analysis probably wouldn't create much change. There is also only a singular duplicate in this data set which we can honestly just ignore becaue it won't have any weight on the analysis."
   ]
  },
  {
   "cell_type": "code",
   "execution_count": 61,
   "metadata": {},
   "outputs": [
    {
     "name": "stdout",
     "output_type": "stream",
     "text": [
      "VendorID                 359900\n",
      "lpep_pickup_datetime     359900\n",
      "lpep_dropoff_datetime    359900\n",
      "store_and_fwd_flag       359900\n",
      "RatecodeID               359900\n",
      "PULocationID             359900\n",
      "DOLocationID             359900\n",
      "passenger_count          359900\n",
      "trip_distance            359900\n",
      "fare_amount              359900\n",
      "extra                    359900\n",
      "mta_tax                  359900\n",
      "tip_amount               359900\n",
      "tolls_amount             359900\n",
      "ehail_fee                     0\n",
      "improvement_surcharge    359900\n",
      "total_amount             359900\n",
      "payment_type             359900\n",
      "trip_type                359900\n",
      "congestion_surcharge     359900\n",
      "dtype: int64\n"
     ]
    }
   ],
   "source": [
    "green_data = green_data.dropna(subset = ['trip_type'])\n",
    "print(green_data.count())"
   ]
  },
  {
   "cell_type": "markdown",
   "metadata": {},
   "source": [
    "#### Step 5 – Plot a histogram showing the distribution of the trip distance. Discuss your observations (no more than 1 paragraph)."
   ]
  },
  {
   "cell_type": "code",
   "execution_count": 62,
   "metadata": {},
   "outputs": [
    {
     "data": {
      "image/png": "[encoded data removed]",
      "text/plain": [
       "<Figure size 432x288 with 1 Axes>"
      ]
     },
     "metadata": {
      "needs_background": "light"
     },
     "output_type": "display_data"
    }
   ],
   "source": [
    "plt.hist(np.array(green_data['trip_distance']), bins = 100)\n",
    "plt.show()"
   ]
  },
  {
   "cell_type": "markdown",
   "metadata": {},
   "source": [
    "#### Step 6 – Did you detect any outliers in step 5? If so, perform a suitable method to handle them?"
   ]
  },
  {
   "cell_type": "code",
   "execution_count": 63,
   "metadata": {},
   "outputs": [],
   "source": [
    "green_data = green_data[green_data['trip_distance'] < 50]\n",
    "green_data = green_data[green_data['trip_distance'] >= 0]"
   ]
  },
  {
   "cell_type": "markdown",
   "metadata": {},
   "source": [
    "#### Step 7 – Show the frequency of trips for each date. Do you see any interesting patterns or do you detect the need for additional data prep. rules."
   ]
  },
  {
   "cell_type": "code",
   "execution_count": 64,
   "metadata": {},
   "outputs": [
    {
     "data": {
      "text/plain": [
       "<matplotlib.axes._subplots.AxesSubplot at 0x1c54cde5c88>"
      ]
     },
     "execution_count": 64,
     "metadata": {},
     "output_type": "execute_result"
    },
    {
     "data": {
      "image/png": "[encoded data removed]",
      "text/plain": [
       "<Figure size 432x288 with 1 Axes>"
      ]
     },
     "metadata": {
      "needs_background": "light"
     },
     "output_type": "display_data"
    }
   ],
   "source": [
    "green_data['tpep_pickup_date'] = pd.to_datetime(green_data['lpep_pickup_datetime'])\n",
    "green_data['tpep_pickup_date'] = green_data['tpep_pickup_date'].dt.normalize()\n",
    "green_data.sort_values(by = ['tpep_pickup_date'], inplace = True)\n",
    "green_date_data = green_data.groupby('tpep_pickup_date')['tpep_pickup_date'].count().to_frame()\n",
    "green_date_data.loc['2019-12'].plot(linewidth = 0.5)"
   ]
  },
  {
   "cell_type": "markdown",
   "metadata": {},
   "source": [
    "You can see the cyclical nature of the volume. The demand increases slowly throughout the week and peaks on Saturday before bottoming out on Sunday. This gets completely disrupted during the week of Christmas, with many customers traveling to be with their families and employees going on vacation there is a dip there. On top of that other customers have burned through a decent of their expendable income for the holidays we take another hit on that front."
   ]
  },
  {
   "cell_type": "markdown",
   "metadata": {},
   "source": [
    "#### Step 8 \n",
    "  - (a) Create a visualization that shows how people pay for their cab rides (e.g. credit card, cash, etc.). Can you say what is the most popular mode of payment?\n",
    "  - (b) Filter the data to only include customers who paid via credit card."
   ]
  },
  {
   "cell_type": "code",
   "execution_count": 65,
   "metadata": {},
   "outputs": [
    {
     "data": {
      "image/png": "[encoded data removed]",
      "text/plain": [
       "<Figure size 432x288 with 1 Axes>"
      ]
     },
     "metadata": {
      "needs_background": "light"
     },
     "output_type": "display_data"
    }
   ],
   "source": [
    "green_pay_data = green_data.groupby('payment_type')['payment_type'].count()\n",
    "plt.bar(green_pay_data.index, green_pay_data.values)\n",
    "plt.xlabel('Payment Type')\n",
    "plt.ylabel('Total Payments')\n",
    "plt.title('Breakdown of Amount of Passengers by Payment Type')\n",
    "\n",
    "credit_green = green_data[green_data['payment_type'] == 1]"
   ]
  },
  {
   "cell_type": "markdown",
   "metadata": {},
   "source": [
    "#### Step 9 –  Create a compelling visualization, based on your intuition, about the data and any useful insights on what factors contribute to cab driver's gratuity. \n",
    "  For example: \n",
    "  - Is there any correlation between the pickup/drop-off location and the gratuity? \n",
    "  - Does the trip distance or duration influence gratuity?"
   ]
  },
  {
   "cell_type": "code",
   "execution_count": 66,
   "metadata": {},
   "outputs": [
    {
     "data": {
      "text/plain": [
       "<matplotlib.legend.Legend at 0x1c54cd7a668>"
      ]
     },
     "execution_count": 66,
     "metadata": {},
     "output_type": "execute_result"
    },
    {
     "data": {
      "image/png": "[encoded data removed]",
      "text/plain": [
       "<Figure size 432x288 with 1 Axes>"
      ]
     },
     "metadata": {
      "needs_background": "light"
     },
     "output_type": "display_data"
    }
   ],
   "source": [
    "x = np.arange(len(green_pmnt_tip.index))\n",
    "width = 0.35\n",
    "\n",
    "fig, ax = plt.subplots()\n",
    "rects1 = ax.bar(x - width/2, green_pmnt_tip.values, width, label='Tips')\n",
    "rects2 = ax.bar(x + width/2, green_pmnt_trip.values, width, label='Distance Traveled')\n",
    "ax.set_ylabel('Total Dollar Amount')\n",
    "ax.set_title('Payment Type')\n",
    "ax.set_xticks(x)\n",
    "ax.yaxis.set_major_formatter(ticker.StrMethodFormatter('{x:,.0f}'))\n",
    "ax.set_xticklabels(green_pmnt_tip.index)\n",
    "ax.legend()"
   ]
  }
 ],
 "metadata": {
  "kernelspec": {
   "display_name": "Python 3",
   "language": "python",
   "name": "python3"
  },
  "language_info": {
   "codemirror_mode": {
    "name": "ipython",
    "version": 3
   },
   "file_extension": ".py",
   "mimetype": "text/x-python",
   "name": "python",
   "nbconvert_exporter": "python",
   "pygments_lexer": "ipython3",
   "version": "3.7.3"
  }
 },
 "nbformat": 4,
 "nbformat_minor": 2
}
