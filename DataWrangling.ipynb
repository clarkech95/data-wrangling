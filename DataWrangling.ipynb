{
 "cells": [
  {
   "cell_type": "code",
   "execution_count": 2,
   "metadata": {},
   "outputs": [],
   "source": [
    "import pandas as pd\n",
    "import seaborn as sns\n",
    "import matplotlib.pyplot as plt\n",
    "import numpy as np"
   ]
  },
  {
   "cell_type": "code",
   "execution_count": 3,
   "metadata": {},
   "outputs": [],
   "source": [
    "yellow_data = pd.read_csv(\"C:/Users/clark/OneDrive/Desktop/SQL Master Class for Data Analysis/yellow_tripdata_2019-12.csv\", low_memory = False)\n",
    "green_data = pd.read_csv(\"C:/Users/clark/OneDrive/Desktop/SQL Master Class for Data Analysis/green_tripdata_2019-12.csv\", low_memory = False)\n",
    "fhv_data = pd.read_csv(\"C:/Users/clark/OneDrive/Desktop/SQL Master Class for Data Analysis/fhv_tripdata_2019-12.csv\", low_memory = False)\n",
    "fhvhv_data = pd.read_csv(\"C:/Users/clark/OneDrive/Desktop/SQL Master Class for Data Analysis/fhvhv_tripdata_2019-12.csv\", low_memory = False)"
   ]
  },
  {
   "cell_type": "code",
   "execution_count": 4,
   "metadata": {},
   "outputs": [],
   "source": [
    "data_sets = [yellow_data, green_data, fhv_data, fhvhv_data]"
   ]
  },
  {
   "cell_type": "code",
   "execution_count": 5,
   "metadata": {},
   "outputs": [
    {
     "name": "stdout",
     "output_type": "stream",
     "text": [
      "[(6896317, 18), (450627, 20), (1759399, 6), (22243149, 7)]\n"
     ]
    }
   ],
   "source": [
    "print([info.shape for info in data_sets])"
   ]
  },
  {
   "cell_type": "code",
   "execution_count": 6,
   "metadata": {},
   "outputs": [
    {
     "data": {
      "text/html": [
       "<div>\n",
       "<style scoped>\n",
       "    .dataframe tbody tr th:only-of-type {\n",
       "        vertical-align: middle;\n",
       "    }\n",
       "\n",
       "    .dataframe tbody tr th {\n",
       "        vertical-align: top;\n",
       "    }\n",
       "\n",
       "    .dataframe thead th {\n",
       "        text-align: right;\n",
       "    }\n",
       "</style>\n",
       "<table border=\"1\" class=\"dataframe\">\n",
       "  <thead>\n",
       "    <tr style=\"text-align: right;\">\n",
       "      <th></th>\n",
       "      <th>VendorID</th>\n",
       "      <th>passenger_count</th>\n",
       "      <th>trip_distance</th>\n",
       "      <th>RatecodeID</th>\n",
       "      <th>PULocationID</th>\n",
       "      <th>DOLocationID</th>\n",
       "      <th>payment_type</th>\n",
       "      <th>fare_amount</th>\n",
       "      <th>extra</th>\n",
       "      <th>mta_tax</th>\n",
       "      <th>tip_amount</th>\n",
       "      <th>tolls_amount</th>\n",
       "      <th>improvement_surcharge</th>\n",
       "      <th>total_amount</th>\n",
       "      <th>congestion_surcharge</th>\n",
       "    </tr>\n",
       "  </thead>\n",
       "  <tbody>\n",
       "    <tr>\n",
       "      <th>count</th>\n",
       "      <td>6.845299e+06</td>\n",
       "      <td>6.845299e+06</td>\n",
       "      <td>6.896317e+06</td>\n",
       "      <td>6.845299e+06</td>\n",
       "      <td>6.896317e+06</td>\n",
       "      <td>6.896317e+06</td>\n",
       "      <td>6.845299e+06</td>\n",
       "      <td>6.896317e+06</td>\n",
       "      <td>6.896317e+06</td>\n",
       "      <td>6.896317e+06</td>\n",
       "      <td>6.896317e+06</td>\n",
       "      <td>6.896317e+06</td>\n",
       "      <td>6.896317e+06</td>\n",
       "      <td>6.896317e+06</td>\n",
       "      <td>6.896317e+06</td>\n",
       "    </tr>\n",
       "    <tr>\n",
       "      <th>mean</th>\n",
       "      <td>1.666457e+00</td>\n",
       "      <td>1.550877e+00</td>\n",
       "      <td>2.973421e+00</td>\n",
       "      <td>1.065756e+00</td>\n",
       "      <td>1.636525e+02</td>\n",
       "      <td>1.614892e+02</td>\n",
       "      <td>1.298993e+00</td>\n",
       "      <td>1.359027e+01</td>\n",
       "      <td>1.108518e+00</td>\n",
       "      <td>4.924147e-01</td>\n",
       "      <td>2.244620e+00</td>\n",
       "      <td>3.881238e-01</td>\n",
       "      <td>2.979857e-01</td>\n",
       "      <td>1.964165e+01</td>\n",
       "      <td>2.275278e+00</td>\n",
       "    </tr>\n",
       "    <tr>\n",
       "      <th>std</th>\n",
       "      <td>4.714787e-01</td>\n",
       "      <td>1.174330e+00</td>\n",
       "      <td>1.643113e+01</td>\n",
       "      <td>9.309869e-01</td>\n",
       "      <td>6.605758e+01</td>\n",
       "      <td>7.033753e+01</td>\n",
       "      <td>4.879401e-01</td>\n",
       "      <td>1.522692e+02</td>\n",
       "      <td>1.259892e+00</td>\n",
       "      <td>7.233857e-02</td>\n",
       "      <td>2.875127e+00</td>\n",
       "      <td>1.715502e+00</td>\n",
       "      <td>3.381444e-02</td>\n",
       "      <td>1.525236e+02</td>\n",
       "      <td>7.359669e-01</td>\n",
       "    </tr>\n",
       "    <tr>\n",
       "      <th>min</th>\n",
       "      <td>1.000000e+00</td>\n",
       "      <td>0.000000e+00</td>\n",
       "      <td>-3.726453e+04</td>\n",
       "      <td>1.000000e+00</td>\n",
       "      <td>1.000000e+00</td>\n",
       "      <td>1.000000e+00</td>\n",
       "      <td>1.000000e+00</td>\n",
       "      <td>-1.472000e+03</td>\n",
       "      <td>-4.500000e+00</td>\n",
       "      <td>-5.000000e-01</td>\n",
       "      <td>-2.008000e+02</td>\n",
       "      <td>-4.050000e+01</td>\n",
       "      <td>-3.000000e-01</td>\n",
       "      <td>-1.472800e+03</td>\n",
       "      <td>-2.500000e+00</td>\n",
       "    </tr>\n",
       "    <tr>\n",
       "      <th>25%</th>\n",
       "      <td>1.000000e+00</td>\n",
       "      <td>1.000000e+00</td>\n",
       "      <td>9.600000e-01</td>\n",
       "      <td>1.000000e+00</td>\n",
       "      <td>1.250000e+02</td>\n",
       "      <td>1.120000e+02</td>\n",
       "      <td>1.000000e+00</td>\n",
       "      <td>6.500000e+00</td>\n",
       "      <td>0.000000e+00</td>\n",
       "      <td>5.000000e-01</td>\n",
       "      <td>0.000000e+00</td>\n",
       "      <td>0.000000e+00</td>\n",
       "      <td>3.000000e-01</td>\n",
       "      <td>1.130000e+01</td>\n",
       "      <td>2.500000e+00</td>\n",
       "    </tr>\n",
       "    <tr>\n",
       "      <th>50%</th>\n",
       "      <td>2.000000e+00</td>\n",
       "      <td>1.000000e+00</td>\n",
       "      <td>1.600000e+00</td>\n",
       "      <td>1.000000e+00</td>\n",
       "      <td>1.620000e+02</td>\n",
       "      <td>1.620000e+02</td>\n",
       "      <td>1.000000e+00</td>\n",
       "      <td>9.500000e+00</td>\n",
       "      <td>5.000000e-01</td>\n",
       "      <td>5.000000e-01</td>\n",
       "      <td>1.920000e+00</td>\n",
       "      <td>0.000000e+00</td>\n",
       "      <td>3.000000e-01</td>\n",
       "      <td>1.480000e+01</td>\n",
       "      <td>2.500000e+00</td>\n",
       "    </tr>\n",
       "    <tr>\n",
       "      <th>75%</th>\n",
       "      <td>2.000000e+00</td>\n",
       "      <td>2.000000e+00</td>\n",
       "      <td>3.030000e+00</td>\n",
       "      <td>1.000000e+00</td>\n",
       "      <td>2.330000e+02</td>\n",
       "      <td>2.340000e+02</td>\n",
       "      <td>2.000000e+00</td>\n",
       "      <td>1.543000e+01</td>\n",
       "      <td>2.500000e+00</td>\n",
       "      <td>5.000000e-01</td>\n",
       "      <td>3.000000e+00</td>\n",
       "      <td>0.000000e+00</td>\n",
       "      <td>3.000000e-01</td>\n",
       "      <td>2.135000e+01</td>\n",
       "      <td>2.500000e+00</td>\n",
       "    </tr>\n",
       "    <tr>\n",
       "      <th>max</th>\n",
       "      <td>2.000000e+00</td>\n",
       "      <td>9.000000e+00</td>\n",
       "      <td>1.913018e+04</td>\n",
       "      <td>9.900000e+01</td>\n",
       "      <td>2.650000e+02</td>\n",
       "      <td>2.650000e+02</td>\n",
       "      <td>5.000000e+00</td>\n",
       "      <td>3.984684e+05</td>\n",
       "      <td>9.006000e+01</td>\n",
       "      <td>3.300000e+00</td>\n",
       "      <td>4.044400e+02</td>\n",
       "      <td>6.126600e+02</td>\n",
       "      <td>3.000000e-01</td>\n",
       "      <td>3.984712e+05</td>\n",
       "      <td>3.000000e+00</td>\n",
       "    </tr>\n",
       "  </tbody>\n",
       "</table>\n",
       "</div>"
      ],
      "text/plain": [
       "           VendorID  passenger_count  trip_distance    RatecodeID  \\\n",
       "count  6.845299e+06     6.845299e+06   6.896317e+06  6.845299e+06   \n",
       "mean   1.666457e+00     1.550877e+00   2.973421e+00  1.065756e+00   \n",
       "std    4.714787e-01     1.174330e+00   1.643113e+01  9.309869e-01   \n",
       "min    1.000000e+00     0.000000e+00  -3.726453e+04  1.000000e+00   \n",
       "25%    1.000000e+00     1.000000e+00   9.600000e-01  1.000000e+00   \n",
       "50%    2.000000e+00     1.000000e+00   1.600000e+00  1.000000e+00   \n",
       "75%    2.000000e+00     2.000000e+00   3.030000e+00  1.000000e+00   \n",
       "max    2.000000e+00     9.000000e+00   1.913018e+04  9.900000e+01   \n",
       "\n",
       "       PULocationID  DOLocationID  payment_type   fare_amount         extra  \\\n",
       "count  6.896317e+06  6.896317e+06  6.845299e+06  6.896317e+06  6.896317e+06   \n",
       "mean   1.636525e+02  1.614892e+02  1.298993e+00  1.359027e+01  1.108518e+00   \n",
       "std    6.605758e+01  7.033753e+01  4.879401e-01  1.522692e+02  1.259892e+00   \n",
       "min    1.000000e+00  1.000000e+00  1.000000e+00 -1.472000e+03 -4.500000e+00   \n",
       "25%    1.250000e+02  1.120000e+02  1.000000e+00  6.500000e+00  0.000000e+00   \n",
       "50%    1.620000e+02  1.620000e+02  1.000000e+00  9.500000e+00  5.000000e-01   \n",
       "75%    2.330000e+02  2.340000e+02  2.000000e+00  1.543000e+01  2.500000e+00   \n",
       "max    2.650000e+02  2.650000e+02  5.000000e+00  3.984684e+05  9.006000e+01   \n",
       "\n",
       "            mta_tax    tip_amount  tolls_amount  improvement_surcharge  \\\n",
       "count  6.896317e+06  6.896317e+06  6.896317e+06           6.896317e+06   \n",
       "mean   4.924147e-01  2.244620e+00  3.881238e-01           2.979857e-01   \n",
       "std    7.233857e-02  2.875127e+00  1.715502e+00           3.381444e-02   \n",
       "min   -5.000000e-01 -2.008000e+02 -4.050000e+01          -3.000000e-01   \n",
       "25%    5.000000e-01  0.000000e+00  0.000000e+00           3.000000e-01   \n",
       "50%    5.000000e-01  1.920000e+00  0.000000e+00           3.000000e-01   \n",
       "75%    5.000000e-01  3.000000e+00  0.000000e+00           3.000000e-01   \n",
       "max    3.300000e+00  4.044400e+02  6.126600e+02           3.000000e-01   \n",
       "\n",
       "       total_amount  congestion_surcharge  \n",
       "count  6.896317e+06          6.896317e+06  \n",
       "mean   1.964165e+01          2.275278e+00  \n",
       "std    1.525236e+02          7.359669e-01  \n",
       "min   -1.472800e+03         -2.500000e+00  \n",
       "25%    1.130000e+01          2.500000e+00  \n",
       "50%    1.480000e+01          2.500000e+00  \n",
       "75%    2.135000e+01          2.500000e+00  \n",
       "max    3.984712e+05          3.000000e+00  "
      ]
     },
     "execution_count": 6,
     "metadata": {},
     "output_type": "execute_result"
    }
   ],
   "source": [
    "yellow_data.describe()"
   ]
  },
  {
   "cell_type": "code",
   "execution_count": 7,
   "metadata": {},
   "outputs": [
    {
     "data": {
      "text/html": [
       "<div>\n",
       "<style scoped>\n",
       "    .dataframe tbody tr th:only-of-type {\n",
       "        vertical-align: middle;\n",
       "    }\n",
       "\n",
       "    .dataframe tbody tr th {\n",
       "        vertical-align: top;\n",
       "    }\n",
       "\n",
       "    .dataframe thead th {\n",
       "        text-align: right;\n",
       "    }\n",
       "</style>\n",
       "<table border=\"1\" class=\"dataframe\">\n",
       "  <thead>\n",
       "    <tr style=\"text-align: right;\">\n",
       "      <th></th>\n",
       "      <th>VendorID</th>\n",
       "      <th>RatecodeID</th>\n",
       "      <th>PULocationID</th>\n",
       "      <th>DOLocationID</th>\n",
       "      <th>passenger_count</th>\n",
       "      <th>trip_distance</th>\n",
       "      <th>fare_amount</th>\n",
       "      <th>extra</th>\n",
       "      <th>mta_tax</th>\n",
       "      <th>tip_amount</th>\n",
       "      <th>tolls_amount</th>\n",
       "      <th>ehail_fee</th>\n",
       "      <th>improvement_surcharge</th>\n",
       "      <th>total_amount</th>\n",
       "      <th>payment_type</th>\n",
       "      <th>trip_type</th>\n",
       "      <th>congestion_surcharge</th>\n",
       "    </tr>\n",
       "  </thead>\n",
       "  <tbody>\n",
       "    <tr>\n",
       "      <th>count</th>\n",
       "      <td>359902.000000</td>\n",
       "      <td>359902.000000</td>\n",
       "      <td>450627.000000</td>\n",
       "      <td>450627.000000</td>\n",
       "      <td>359902.000000</td>\n",
       "      <td>450627.000000</td>\n",
       "      <td>450627.000000</td>\n",
       "      <td>450627.000000</td>\n",
       "      <td>450627.000000</td>\n",
       "      <td>450627.000000</td>\n",
       "      <td>450627.000000</td>\n",
       "      <td>0.0</td>\n",
       "      <td>450625.000000</td>\n",
       "      <td>450627.000000</td>\n",
       "      <td>359902.000000</td>\n",
       "      <td>359900.000000</td>\n",
       "      <td>359900.000000</td>\n",
       "    </tr>\n",
       "    <tr>\n",
       "      <th>mean</th>\n",
       "      <td>1.833449</td>\n",
       "      <td>1.102836</td>\n",
       "      <td>107.480599</td>\n",
       "      <td>128.446118</td>\n",
       "      <td>1.311582</td>\n",
       "      <td>3.445025</td>\n",
       "      <td>15.586714</td>\n",
       "      <td>0.888232</td>\n",
       "      <td>0.439677</td>\n",
       "      <td>0.949459</td>\n",
       "      <td>0.289563</td>\n",
       "      <td>NaN</td>\n",
       "      <td>0.270599</td>\n",
       "      <td>18.736671</td>\n",
       "      <td>1.477002</td>\n",
       "      <td>1.023226</td>\n",
       "      <td>0.426469</td>\n",
       "    </tr>\n",
       "    <tr>\n",
       "      <th>std</th>\n",
       "      <td>0.372575</td>\n",
       "      <td>0.623131</td>\n",
       "      <td>70.625075</td>\n",
       "      <td>76.086904</td>\n",
       "      <td>0.968107</td>\n",
       "      <td>117.057614</td>\n",
       "      <td>12.915723</td>\n",
       "      <td>1.166764</td>\n",
       "      <td>0.166541</td>\n",
       "      <td>2.182414</td>\n",
       "      <td>1.369154</td>\n",
       "      <td>NaN</td>\n",
       "      <td>0.091492</td>\n",
       "      <td>14.405428</td>\n",
       "      <td>0.521520</td>\n",
       "      <td>0.150620</td>\n",
       "      <td>0.995450</td>\n",
       "    </tr>\n",
       "    <tr>\n",
       "      <th>min</th>\n",
       "      <td>1.000000</td>\n",
       "      <td>1.000000</td>\n",
       "      <td>1.000000</td>\n",
       "      <td>1.000000</td>\n",
       "      <td>0.000000</td>\n",
       "      <td>-9436.330000</td>\n",
       "      <td>-200.000000</td>\n",
       "      <td>-4.500000</td>\n",
       "      <td>-0.500000</td>\n",
       "      <td>-90.500000</td>\n",
       "      <td>0.000000</td>\n",
       "      <td>NaN</td>\n",
       "      <td>-0.300000</td>\n",
       "      <td>-200.000000</td>\n",
       "      <td>1.000000</td>\n",
       "      <td>1.000000</td>\n",
       "      <td>-2.750000</td>\n",
       "    </tr>\n",
       "    <tr>\n",
       "      <th>25%</th>\n",
       "      <td>2.000000</td>\n",
       "      <td>1.000000</td>\n",
       "      <td>52.000000</td>\n",
       "      <td>64.000000</td>\n",
       "      <td>1.000000</td>\n",
       "      <td>1.040000</td>\n",
       "      <td>7.000000</td>\n",
       "      <td>0.000000</td>\n",
       "      <td>0.500000</td>\n",
       "      <td>0.000000</td>\n",
       "      <td>0.000000</td>\n",
       "      <td>NaN</td>\n",
       "      <td>0.300000</td>\n",
       "      <td>8.800000</td>\n",
       "      <td>1.000000</td>\n",
       "      <td>1.000000</td>\n",
       "      <td>0.000000</td>\n",
       "    </tr>\n",
       "    <tr>\n",
       "      <th>50%</th>\n",
       "      <td>2.000000</td>\n",
       "      <td>1.000000</td>\n",
       "      <td>82.000000</td>\n",
       "      <td>129.000000</td>\n",
       "      <td>1.000000</td>\n",
       "      <td>1.940000</td>\n",
       "      <td>11.000000</td>\n",
       "      <td>0.500000</td>\n",
       "      <td>0.500000</td>\n",
       "      <td>0.000000</td>\n",
       "      <td>0.000000</td>\n",
       "      <td>NaN</td>\n",
       "      <td>0.300000</td>\n",
       "      <td>14.150000</td>\n",
       "      <td>1.000000</td>\n",
       "      <td>1.000000</td>\n",
       "      <td>0.000000</td>\n",
       "    </tr>\n",
       "    <tr>\n",
       "      <th>75%</th>\n",
       "      <td>2.000000</td>\n",
       "      <td>1.000000</td>\n",
       "      <td>166.000000</td>\n",
       "      <td>192.000000</td>\n",
       "      <td>1.000000</td>\n",
       "      <td>4.000000</td>\n",
       "      <td>20.500000</td>\n",
       "      <td>1.000000</td>\n",
       "      <td>0.500000</td>\n",
       "      <td>1.560000</td>\n",
       "      <td>0.000000</td>\n",
       "      <td>NaN</td>\n",
       "      <td>0.300000</td>\n",
       "      <td>24.420000</td>\n",
       "      <td>2.000000</td>\n",
       "      <td>1.000000</td>\n",
       "      <td>0.000000</td>\n",
       "    </tr>\n",
       "    <tr>\n",
       "      <th>max</th>\n",
       "      <td>2.000000</td>\n",
       "      <td>6.000000</td>\n",
       "      <td>265.000000</td>\n",
       "      <td>265.000000</td>\n",
       "      <td>9.000000</td>\n",
       "      <td>77843.760000</td>\n",
       "      <td>500.000000</td>\n",
       "      <td>8.250000</td>\n",
       "      <td>3.550000</td>\n",
       "      <td>441.000000</td>\n",
       "      <td>48.000000</td>\n",
       "      <td>NaN</td>\n",
       "      <td>0.300000</td>\n",
       "      <td>500.300000</td>\n",
       "      <td>5.000000</td>\n",
       "      <td>2.000000</td>\n",
       "      <td>2.750000</td>\n",
       "    </tr>\n",
       "  </tbody>\n",
       "</table>\n",
       "</div>"
      ],
      "text/plain": [
       "            VendorID     RatecodeID   PULocationID   DOLocationID  \\\n",
       "count  359902.000000  359902.000000  450627.000000  450627.000000   \n",
       "mean        1.833449       1.102836     107.480599     128.446118   \n",
       "std         0.372575       0.623131      70.625075      76.086904   \n",
       "min         1.000000       1.000000       1.000000       1.000000   \n",
       "25%         2.000000       1.000000      52.000000      64.000000   \n",
       "50%         2.000000       1.000000      82.000000     129.000000   \n",
       "75%         2.000000       1.000000     166.000000     192.000000   \n",
       "max         2.000000       6.000000     265.000000     265.000000   \n",
       "\n",
       "       passenger_count  trip_distance    fare_amount          extra  \\\n",
       "count    359902.000000  450627.000000  450627.000000  450627.000000   \n",
       "mean          1.311582       3.445025      15.586714       0.888232   \n",
       "std           0.968107     117.057614      12.915723       1.166764   \n",
       "min           0.000000   -9436.330000    -200.000000      -4.500000   \n",
       "25%           1.000000       1.040000       7.000000       0.000000   \n",
       "50%           1.000000       1.940000      11.000000       0.500000   \n",
       "75%           1.000000       4.000000      20.500000       1.000000   \n",
       "max           9.000000   77843.760000     500.000000       8.250000   \n",
       "\n",
       "             mta_tax     tip_amount   tolls_amount  ehail_fee  \\\n",
       "count  450627.000000  450627.000000  450627.000000        0.0   \n",
       "mean        0.439677       0.949459       0.289563        NaN   \n",
       "std         0.166541       2.182414       1.369154        NaN   \n",
       "min        -0.500000     -90.500000       0.000000        NaN   \n",
       "25%         0.500000       0.000000       0.000000        NaN   \n",
       "50%         0.500000       0.000000       0.000000        NaN   \n",
       "75%         0.500000       1.560000       0.000000        NaN   \n",
       "max         3.550000     441.000000      48.000000        NaN   \n",
       "\n",
       "       improvement_surcharge   total_amount   payment_type      trip_type  \\\n",
       "count          450625.000000  450627.000000  359902.000000  359900.000000   \n",
       "mean                0.270599      18.736671       1.477002       1.023226   \n",
       "std                 0.091492      14.405428       0.521520       0.150620   \n",
       "min                -0.300000    -200.000000       1.000000       1.000000   \n",
       "25%                 0.300000       8.800000       1.000000       1.000000   \n",
       "50%                 0.300000      14.150000       1.000000       1.000000   \n",
       "75%                 0.300000      24.420000       2.000000       1.000000   \n",
       "max                 0.300000     500.300000       5.000000       2.000000   \n",
       "\n",
       "       congestion_surcharge  \n",
       "count         359900.000000  \n",
       "mean               0.426469  \n",
       "std                0.995450  \n",
       "min               -2.750000  \n",
       "25%                0.000000  \n",
       "50%                0.000000  \n",
       "75%                0.000000  \n",
       "max                2.750000  "
      ]
     },
     "execution_count": 7,
     "metadata": {},
     "output_type": "execute_result"
    }
   ],
   "source": [
    "green_data.describe()"
   ]
  },
  {
   "cell_type": "code",
   "execution_count": 8,
   "metadata": {},
   "outputs": [
    {
     "data": {
      "text/html": [
       "<div>\n",
       "<style scoped>\n",
       "    .dataframe tbody tr th:only-of-type {\n",
       "        vertical-align: middle;\n",
       "    }\n",
       "\n",
       "    .dataframe tbody tr th {\n",
       "        vertical-align: top;\n",
       "    }\n",
       "\n",
       "    .dataframe thead th {\n",
       "        text-align: right;\n",
       "    }\n",
       "</style>\n",
       "<table border=\"1\" class=\"dataframe\">\n",
       "  <thead>\n",
       "    <tr style=\"text-align: right;\">\n",
       "      <th></th>\n",
       "      <th>PULocationID</th>\n",
       "      <th>DOLocationID</th>\n",
       "      <th>SR_Flag</th>\n",
       "    </tr>\n",
       "  </thead>\n",
       "  <tbody>\n",
       "    <tr>\n",
       "      <th>count</th>\n",
       "      <td>1.759399e+06</td>\n",
       "      <td>1.759399e+06</td>\n",
       "      <td>0.0</td>\n",
       "    </tr>\n",
       "    <tr>\n",
       "      <th>mean</th>\n",
       "      <td>2.372111e+02</td>\n",
       "      <td>1.600476e+02</td>\n",
       "      <td>NaN</td>\n",
       "    </tr>\n",
       "    <tr>\n",
       "      <th>std</th>\n",
       "      <td>6.227865e+01</td>\n",
       "      <td>8.610043e+01</td>\n",
       "      <td>NaN</td>\n",
       "    </tr>\n",
       "    <tr>\n",
       "      <th>min</th>\n",
       "      <td>1.000000e+00</td>\n",
       "      <td>1.000000e+00</td>\n",
       "      <td>NaN</td>\n",
       "    </tr>\n",
       "    <tr>\n",
       "      <th>25%</th>\n",
       "      <td>2.640000e+02</td>\n",
       "      <td>7.700000e+01</td>\n",
       "      <td>NaN</td>\n",
       "    </tr>\n",
       "    <tr>\n",
       "      <th>50%</th>\n",
       "      <td>2.640000e+02</td>\n",
       "      <td>1.680000e+02</td>\n",
       "      <td>NaN</td>\n",
       "    </tr>\n",
       "    <tr>\n",
       "      <th>75%</th>\n",
       "      <td>2.640000e+02</td>\n",
       "      <td>2.470000e+02</td>\n",
       "      <td>NaN</td>\n",
       "    </tr>\n",
       "    <tr>\n",
       "      <th>max</th>\n",
       "      <td>2.650000e+02</td>\n",
       "      <td>2.650000e+02</td>\n",
       "      <td>NaN</td>\n",
       "    </tr>\n",
       "  </tbody>\n",
       "</table>\n",
       "</div>"
      ],
      "text/plain": [
       "       PULocationID  DOLocationID  SR_Flag\n",
       "count  1.759399e+06  1.759399e+06      0.0\n",
       "mean   2.372111e+02  1.600476e+02      NaN\n",
       "std    6.227865e+01  8.610043e+01      NaN\n",
       "min    1.000000e+00  1.000000e+00      NaN\n",
       "25%    2.640000e+02  7.700000e+01      NaN\n",
       "50%    2.640000e+02  1.680000e+02      NaN\n",
       "75%    2.640000e+02  2.470000e+02      NaN\n",
       "max    2.650000e+02  2.650000e+02      NaN"
      ]
     },
     "execution_count": 8,
     "metadata": {},
     "output_type": "execute_result"
    }
   ],
   "source": [
    "fhv_data.describe()"
   ]
  },
  {
   "cell_type": "code",
   "execution_count": 9,
   "metadata": {},
   "outputs": [
    {
     "data": {
      "text/html": [
       "<div>\n",
       "<style scoped>\n",
       "    .dataframe tbody tr th:only-of-type {\n",
       "        vertical-align: middle;\n",
       "    }\n",
       "\n",
       "    .dataframe tbody tr th {\n",
       "        vertical-align: top;\n",
       "    }\n",
       "\n",
       "    .dataframe thead th {\n",
       "        text-align: right;\n",
       "    }\n",
       "</style>\n",
       "<table border=\"1\" class=\"dataframe\">\n",
       "  <thead>\n",
       "    <tr style=\"text-align: right;\">\n",
       "      <th></th>\n",
       "      <th>PULocationID</th>\n",
       "      <th>DOLocationID</th>\n",
       "      <th>SR_Flag</th>\n",
       "    </tr>\n",
       "  </thead>\n",
       "  <tbody>\n",
       "    <tr>\n",
       "      <th>count</th>\n",
       "      <td>2.224315e+07</td>\n",
       "      <td>2.224315e+07</td>\n",
       "      <td>2895887.0</td>\n",
       "    </tr>\n",
       "    <tr>\n",
       "      <th>mean</th>\n",
       "      <td>1.387326e+02</td>\n",
       "      <td>1.412732e+02</td>\n",
       "      <td>1.0</td>\n",
       "    </tr>\n",
       "    <tr>\n",
       "      <th>std</th>\n",
       "      <td>7.509290e+01</td>\n",
       "      <td>7.749719e+01</td>\n",
       "      <td>0.0</td>\n",
       "    </tr>\n",
       "    <tr>\n",
       "      <th>min</th>\n",
       "      <td>1.000000e+00</td>\n",
       "      <td>1.000000e+00</td>\n",
       "      <td>1.0</td>\n",
       "    </tr>\n",
       "    <tr>\n",
       "      <th>25%</th>\n",
       "      <td>7.500000e+01</td>\n",
       "      <td>7.500000e+01</td>\n",
       "      <td>1.0</td>\n",
       "    </tr>\n",
       "    <tr>\n",
       "      <th>50%</th>\n",
       "      <td>1.400000e+02</td>\n",
       "      <td>1.410000e+02</td>\n",
       "      <td>1.0</td>\n",
       "    </tr>\n",
       "    <tr>\n",
       "      <th>75%</th>\n",
       "      <td>2.110000e+02</td>\n",
       "      <td>2.160000e+02</td>\n",
       "      <td>1.0</td>\n",
       "    </tr>\n",
       "    <tr>\n",
       "      <th>max</th>\n",
       "      <td>2.650000e+02</td>\n",
       "      <td>2.650000e+02</td>\n",
       "      <td>1.0</td>\n",
       "    </tr>\n",
       "  </tbody>\n",
       "</table>\n",
       "</div>"
      ],
      "text/plain": [
       "       PULocationID  DOLocationID    SR_Flag\n",
       "count  2.224315e+07  2.224315e+07  2895887.0\n",
       "mean   1.387326e+02  1.412732e+02        1.0\n",
       "std    7.509290e+01  7.749719e+01        0.0\n",
       "min    1.000000e+00  1.000000e+00        1.0\n",
       "25%    7.500000e+01  7.500000e+01        1.0\n",
       "50%    1.400000e+02  1.410000e+02        1.0\n",
       "75%    2.110000e+02  2.160000e+02        1.0\n",
       "max    2.650000e+02  2.650000e+02        1.0"
      ]
     },
     "execution_count": 9,
     "metadata": {},
     "output_type": "execute_result"
    }
   ],
   "source": [
    "fhvhv_data.describe()"
   ]
  },
  {
   "cell_type": "markdown",
   "metadata": {},
   "source": [
    "Interestingly enough, it looks like green cabs typically take less passengers and drive further distances; this ends with them having slightly more expensive fare charges. However, this doesn't translate to more tips, quite the opposite, it appears that they receive less tips if they receieve any tips at all. For both ride types increased fare amounts lead to increased tip percentages which is interesting. The question is, do customers feel the need to tip more because they feel guilty about the long ride, is there a specific of drivers making these longer rides, do the longer rides allow customers more interaction with the drivers and thus a stronger connection leading to a better tip, or something else entirely. There are also very large trip distances as well as negative trip distances which could represent faulty devices.\n"
   ]
  },
  {
   "cell_type": "code",
   "execution_count": 10,
   "metadata": {},
   "outputs": [
    {
     "name": "stdout",
     "output_type": "stream",
     "text": [
      "VendorID                 6845299\n",
      "tpep_pickup_datetime     6896317\n",
      "tpep_dropoff_datetime    6896317\n",
      "passenger_count          6845299\n",
      "trip_distance            6896317\n",
      "RatecodeID               6845299\n",
      "store_and_fwd_flag       6845299\n",
      "PULocationID             6896317\n",
      "DOLocationID             6896317\n",
      "payment_type             6845299\n",
      "fare_amount              6896317\n",
      "extra                    6896317\n",
      "mta_tax                  6896317\n",
      "tip_amount               6896317\n",
      "tolls_amount             6896317\n",
      "improvement_surcharge    6896317\n",
      "total_amount             6896317\n",
      "congestion_surcharge     6896317\n",
      "dtype: int64\n",
      "VendorID                 359902\n",
      "lpep_pickup_datetime     450627\n",
      "lpep_dropoff_datetime    450627\n",
      "store_and_fwd_flag       359902\n",
      "RatecodeID               359902\n",
      "PULocationID             450627\n",
      "DOLocationID             450627\n",
      "passenger_count          359902\n",
      "trip_distance            450627\n",
      "fare_amount              450627\n",
      "extra                    450627\n",
      "mta_tax                  450627\n",
      "tip_amount               450627\n",
      "tolls_amount             450627\n",
      "ehail_fee                     0\n",
      "improvement_surcharge    450625\n",
      "total_amount             450627\n",
      "payment_type             359902\n",
      "trip_type                359900\n",
      "congestion_surcharge     359900\n",
      "dtype: int64\n",
      "dispatching_base_num    1759399\n",
      "pickup_datetime         1759399\n",
      "dropoff_datetime        1759399\n",
      "PULocationID            1759399\n",
      "DOLocationID            1759399\n",
      "SR_Flag                       0\n",
      "dtype: int64\n",
      "hvfhs_license_num       22243149\n",
      "dispatching_base_num    22243149\n",
      "pickup_datetime         22243149\n",
      "dropoff_datetime        22243149\n",
      "PULocationID            22243149\n",
      "DOLocationID            22243149\n",
      "SR_Flag                  2895887\n",
      "dtype: int64\n"
     ]
    }
   ],
   "source": [
    "print(yellow_data.count())\n",
    "print(green_data.count())\n",
    "print(fhv_data.count())\n",
    "print(fhvhv_data.count())"
   ]
  },
  {
   "cell_type": "code",
   "execution_count": 11,
   "metadata": {},
   "outputs": [
    {
     "name": "stdout",
     "output_type": "stream",
     "text": [
      "tf\n",
      "False    6896317\n",
      "Name: tf, dtype: int64\n",
      "tf\n",
      "False    450626\n",
      "True          1\n",
      "Name: tf, dtype: int64\n",
      "tf\n",
      "False    1749331\n",
      "True       10068\n",
      "Name: tf, dtype: int64\n",
      "tf\n",
      "False    22242924\n",
      "True          225\n",
      "Name: tf, dtype: int64\n"
     ]
    }
   ],
   "source": [
    "print(pd.DataFrame(yellow_data.duplicated(), columns = ['tf']).groupby('tf')['tf'].count())\n",
    "print(pd.DataFrame(green_data.duplicated(), columns = ['tf']).groupby('tf')['tf'].count())\n",
    "print(pd.DataFrame(fhv_data.duplicated(), columns = ['tf']).groupby('tf')['tf'].count())\n",
    "print(pd.DataFrame(fhvhv_data.duplicated(), columns = ['tf']).groupby('tf')['tf'].count())"
   ]
  },
  {
   "cell_type": "markdown",
   "metadata": {},
   "source": [
    "There appears to only be about 18 missing data points and no duplicated data in the yellow cab data set. In this case we can simply delete the missing data points since they make up such a small amount of our total data. For the green data set though there is over 90,000 rows of missing data in certain columns. Thankfully passenger count, payment type, trip type are the only columns that are of concern, the others can be ingored or deleted entirely since they don't play a major role in any analysis we would perform. Since this is such a large subset of our data we probably wouldn't want to delete all of these rows. We could technically delete them and still have a large amount of data to work with but since there is little variation in the columns the empty cells can be filled with the averages for their respective columns. There is also only a singular duplicate in this data set which can be removed."
   ]
  },
  {
   "cell_type": "code",
   "execution_count": 12,
   "metadata": {},
   "outputs": [
    {
     "data": {
      "image/png": "[encoded data removed]",
      "text/plain": [
       "<Figure size 432x288 with 1 Axes>"
      ]
     },
     "metadata": {
      "needs_background": "light"
     },
     "output_type": "display_data"
    }
   ],
   "source": [
    "plt.hist(np.array(yellow_data['trip_distance']), bins = 100, range = [-5,25])\n",
    "plt.show()"
   ]
  },
  {
   "cell_type": "code",
   "execution_count": 13,
   "metadata": {},
   "outputs": [
    {
     "data": {
      "image/png": "[encoded data removed]",
      "text/plain": [
       "<Figure size 432x288 with 1 Axes>"
      ]
     },
     "metadata": {
      "needs_background": "light"
     },
     "output_type": "display_data"
    }
   ],
   "source": [
    "plt.hist(np.array(green_data['trip_distance']), bins = 100, range = [-5,25])\n",
    "plt.show()"
   ]
  },
  {
   "cell_type": "code",
   "execution_count": 14,
   "metadata": {},
   "outputs": [
    {
     "data": {
      "text/plain": [
       "Index(['VendorID', 'tpep_pickup_datetime', 'tpep_dropoff_datetime',\n",
       "       'passenger_count', 'trip_distance', 'RatecodeID', 'store_and_fwd_flag',\n",
       "       'PULocationID', 'DOLocationID', 'payment_type', 'fare_amount', 'extra',\n",
       "       'mta_tax', 'tip_amount', 'tolls_amount', 'improvement_surcharge',\n",
       "       'total_amount', 'congestion_surcharge'],\n",
       "      dtype='object')"
      ]
     },
     "execution_count": 14,
     "metadata": {},
     "output_type": "execute_result"
    }
   ],
   "source": [
    "yellow_data.columns"
   ]
  },
  {
   "cell_type": "code",
   "execution_count": 15,
   "metadata": {},
   "outputs": [
    {
     "data": {
      "text/plain": [
       "Index(['VendorID', 'lpep_pickup_datetime', 'lpep_dropoff_datetime',\n",
       "       'store_and_fwd_flag', 'RatecodeID', 'PULocationID', 'DOLocationID',\n",
       "       'passenger_count', 'trip_distance', 'fare_amount', 'extra', 'mta_tax',\n",
       "       'tip_amount', 'tolls_amount', 'ehail_fee', 'improvement_surcharge',\n",
       "       'total_amount', 'payment_type', 'trip_type', 'congestion_surcharge'],\n",
       "      dtype='object')"
      ]
     },
     "execution_count": 15,
     "metadata": {},
     "output_type": "execute_result"
    }
   ],
   "source": [
    "green_data.columns"
   ]
  },
  {
   "cell_type": "code",
   "execution_count": 122,
   "metadata": {
    "scrolled": true
   },
   "outputs": [
    {
     "data": {
      "text/plain": [
       "<matplotlib.axes._subplots.AxesSubplot at 0x224c0676c50>"
      ]
     },
     "execution_count": 122,
     "metadata": {},
     "output_type": "execute_result"
    },
    {
     "data": {
      "image/png": "[encoded data removed]",
      "text/plain": [
       "<Figure size 432x288 with 1 Axes>"
      ]
     },
     "metadata": {
      "needs_background": "light"
     },
     "output_type": "display_data"
    }
   ],
   "source": [
    "yellow_data['tpep_pickup_date'] = pd.to_datetime(yellow_data['tpep_pickup_datetime'])\n",
    "yellow_data['tpep_pickup_date'] = yellow_data['tpep_pickup_date'].dt.normalize()\n",
    "yellow_data.sort_values(by = ['tpep_pickup_date'], inplace = True)\n",
    "yellow_date_data = yellow_data.groupby('tpep_pickup_date')['tpep_pickup_date'].count().to_frame()\n",
    "yellow_date_data.loc['2019-12'].plot(linewidth = 0.5)"
   ]
  },
  {
   "cell_type": "code",
   "execution_count": 125,
   "metadata": {},
   "outputs": [
    {
     "data": {
      "text/plain": [
       "<matplotlib.axes._subplots.AxesSubplot at 0x224bdf3bac8>"
      ]
     },
     "execution_count": 125,
     "metadata": {},
     "output_type": "execute_result"
    },
    {
     "data": {
      "image/png": "[encoded data removed]",
      "text/plain": [
       "<Figure size 432x288 with 1 Axes>"
      ]
     },
     "metadata": {
      "needs_background": "light"
     },
     "output_type": "display_data"
    }
   ],
   "source": [
    "green_data['tpep_pickup_date'] = pd.to_datetime(green_data['lpep_pickup_datetime'])\n",
    "green_data['tpep_pickup_date'] = green_data['tpep_pickup_date'].dt.normalize()\n",
    "green_data.sort_values(by = ['tpep_pickup_date'], inplace = True)\n",
    "green_date_data = green_data.groupby('tpep_pickup_date')['tpep_pickup_date'].count().to_frame()\n",
    "green_date_data.loc['2019-12'].plot(linewidth = 0.5)"
   ]
  },
  {
   "cell_type": "markdown",
   "metadata": {},
   "source": [
    "For both green and yellow cabs you can see the cyclical nature of the volume. The demand increases slowly throughout the week and peaks on Saturday before bottoming out on Sunday. This gets completely disrupted during the week of Christmas, with many customers traveling to be with their families and employees going on vacation there is a dip there. On top of that other customers have burned through a decent of their expendable income for the holidays we take another hit on that front."
   ]
  },
  {
   "cell_type": "code",
   "execution_count": 130,
   "metadata": {},
   "outputs": [
    {
     "data": {
      "text/plain": [
       "Text(0, 0.5, 'Total Payments')"
      ]
     },
     "execution_count": 130,
     "metadata": {},
     "output_type": "execute_result"
    },
    {
     "data": {
      "image/png": "[encoded data removed]",
      "text/plain": [
       "<Figure size 432x288 with 1 Axes>"
      ]
     },
     "metadata": {
      "needs_background": "light"
     },
     "output_type": "display_data"
    }
   ],
   "source": [
    "yellow_pay_data = yellow_data.groupby('payment_type')['payment_type'].count()\n",
    "plt.bar(yellow_pay_data.index, yellow_pay_data.values)\n",
    "plt.xlabel('Payment Type')\n",
    "plt.ylabel('Total Payments')"
   ]
  },
  {
   "cell_type": "code",
   "execution_count": 131,
   "metadata": {},
   "outputs": [
    {
     "data": {
      "text/plain": [
       "Text(0, 0.5, 'Total Payments')"
      ]
     },
     "execution_count": 131,
     "metadata": {},
     "output_type": "execute_result"
    },
    {
     "data": {
      "image/png": "[encoded data removed]",
      "text/plain": [
       "<Figure size 432x288 with 1 Axes>"
      ]
     },
     "metadata": {
      "needs_background": "light"
     },
     "output_type": "display_data"
    }
   ],
   "source": [
    "green_pay_data = green_data.groupby('payment_type')['payment_type'].count()\n",
    "plt.bar(green_pay_data.index, green_pay_data.values)\n",
    "plt.xlabel('Payment Type')\n",
    "plt.ylabel('Total Payments')"
   ]
  },
  {
   "cell_type": "code",
   "execution_count": null,
   "metadata": {},
   "outputs": [],
   "source": [
    "yellow_data[yellow_data['payment_type'] == 1]\n",
    "green_data[green_data['payment_type'] == 1]"
   ]
  },
  {
   "cell_type": "code",
   "execution_count": 136,
   "metadata": {},
   "outputs": [
    {
     "data": {
      "text/plain": [
       "<matplotlib.collections.PathCollection at 0x22324b98358>"
      ]
     },
     "execution_count": 136,
     "metadata": {},
     "output_type": "execute_result"
    },
    {
     "data": {
      "image/png": "[encoded data removed]",
      "text/plain": [
       "<Figure size 432x288 with 1 Axes>"
      ]
     },
     "metadata": {
      "needs_background": "light"
     },
     "output_type": "display_data"
    }
   ],
   "source": [
    "yellow_dist_data = yellow_data.loc[:,['trip_distance','tip_amount']]\n",
    "yellow_dist_data = yellow_dist_data[yellow_dist_data['trip_distance'] < 10000]\n",
    "yellow_dist_data = yellow_dist_data[yellow_dist_data['trip_distance'] > -10000]\n",
    "plt.scatter(yellow_dist_data['trip_distance'],yellow_dist_data['tip_amount'])"
   ]
  },
  {
   "cell_type": "code",
   "execution_count": null,
   "metadata": {},
   "outputs": [],
   "source": [
    "green_dist_data = green_data.loc[:,['trip_distance','tip_amount']]\n",
    "green_dist_data[green_dist_data['trip_distance'] < 10000]\n",
    "green_dist_data[green_dist_data['trip_distance'] > -10000]\n",
    "plt.scatter(green_dist_data['trip_distance'],green_dist_data['tip_amount'])"
   ]
  }
 ],
 "metadata": {
  "kernelspec": {
   "display_name": "Python 3",
   "language": "python",
   "name": "python3"
  },
  "language_info": {
   "codemirror_mode": {
    "name": "ipython",
    "version": 3
   },
   "file_extension": ".py",
   "mimetype": "text/x-python",
   "name": "python",
   "nbconvert_exporter": "python",
   "pygments_lexer": "ipython3",
   "version": "3.7.3"
  }
 },
 "nbformat": 4,
 "nbformat_minor": 2
}
